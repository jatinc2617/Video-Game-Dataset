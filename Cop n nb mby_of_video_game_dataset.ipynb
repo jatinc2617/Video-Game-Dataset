{
  "nbformat": 4,
  "nbformat_minor": 0,
  "metadata": {
    "colab": {
      "provenance": [],
      "authorship_tag": "ABX9TyMN5rpaQb6R4hIwSFplzi/4",
      "include_colab_link": true
    },
    "kernelspec": {
      "name": "python3",
      "display_name": "Python 3"
    },
    "language_info": {
      "name": "python"
    }
  },
  "cells": [
    {
      "cell_type": "markdown",
      "metadata": {
        "id": "view-in-github",
        "colab_type": "text"
      },
      "source": [
        "<a href=\"https://colab.research.google.com/github/jatinc2617/Video-Game-Dataset/blob/main/Cop%20n%20nb%20mby_of_video_game_dataset.ipynb\" target=\"_parent\"><img src=\"https://colab.research.google.com/assets/colab-badge.svg\" alt=\"Open In Colab\"/></a>"
      ]
    },
    {
      "cell_type": "code",
      "execution_count": 4,
      "metadata": {
        "id": "V_kmca2end-l",
        "outputId": "f910249c-4435-4e04-8633-e6ae91170bd8",
        "colab": {
          "base_uri": "https://localhost:8080/"
        }
      },
      "outputs": [
        {
          "output_type": "stream",
          "name": "stdout",
          "text": [
            "jatgfjhghjgkin \n"
          ]
        }
      ],
      "source": [
        "print(\"jatgfjhghjgkin \")"
      ]
    }
  ]
}